{
 "cells": [
  {
   "cell_type": "markdown",
   "id": "e341452d",
   "metadata": {},
   "source": [
    "#### importamos a las librerías a utilizar"
   ]
  },
  {
   "cell_type": "code",
   "execution_count": null,
   "id": "e02acc58",
   "metadata": {},
   "outputs": [],
   "source": [
    "import pandas as pd\n",
    "import numpy as numpy\n",
    "import matplotlib.pyplot as plt\n",
    "import sqlite3"
   ]
  },
  {
   "cell_type": "markdown",
   "id": "d21cdf10",
   "metadata": {},
   "source": [
    "#### leemos el csv votaciones.csv"
   ]
  },
  {
   "cell_type": "code",
   "execution_count": null,
   "id": "929dcaa0",
   "metadata": {},
   "outputs": [],
   "source": [
    "df = pd.read_csv('votaciones.csv')\n",
    "df"
   ]
  },
  {
   "cell_type": "markdown",
   "id": "2c0f9e76",
   "metadata": {},
   "source": [
    "#### vemos los datos nulos y string vacíos"
   ]
  },
  {
   "cell_type": "code",
   "execution_count": null,
   "id": "a80d3863",
   "metadata": {},
   "outputs": [],
   "source": [
    "df.isna().sum()"
   ]
  },
  {
   "cell_type": "markdown",
   "id": "ee7bebca",
   "metadata": {},
   "source": [
    "#### eliminamos las filas que tienen valores nulos en apellido y nombre "
   ]
  },
  {
   "cell_type": "code",
   "execution_count": null,
   "id": "ffe7bdf4",
   "metadata": {},
   "outputs": [],
   "source": [
    "df.dropna(inplace=True)"
   ]
  },
  {
   "cell_type": "markdown",
   "id": "4cbce259",
   "metadata": {},
   "source": [
    "#### mostramos de vuelta el DataFrame "
   ]
  },
  {
   "cell_type": "code",
   "execution_count": null,
   "id": "7246fc28",
   "metadata": {},
   "outputs": [],
   "source": [
    "df.head()"
   ]
  },
  {
   "cell_type": "markdown",
   "id": "4f224f79",
   "metadata": {},
   "source": [
    "#### verificamos los valores nulos de vuelta "
   ]
  },
  {
   "cell_type": "code",
   "execution_count": null,
   "id": "019ecd81",
   "metadata": {},
   "outputs": [],
   "source": [
    "df.isna().sum()"
   ]
  },
  {
   "cell_type": "markdown",
   "id": "b645672f",
   "metadata": {},
   "source": [
    "#### asignaremos el tipo de dato a cada columna "
   ]
  },
  {
   "cell_type": "code",
   "execution_count": null,
   "id": "3408bf00",
   "metadata": {},
   "outputs": [],
   "source": [
    "df = df.astype({'nombre':str,'apellido':str,'dni':str,'voto':str})"
   ]
  },
  {
   "cell_type": "markdown",
   "id": "3e0ca4d5",
   "metadata": {},
   "source": [
    "#### verificaremos columna por columna los valores que no son nulos pero si son string vacíos ( ' ' )"
   ]
  },
  {
   "cell_type": "code",
   "execution_count": null,
   "id": "2bdfdee4",
   "metadata": {},
   "outputs": [],
   "source": [
    "df[df['nombre'] == ' ' ]"
   ]
  },
  {
   "cell_type": "code",
   "execution_count": null,
   "id": "285549b1",
   "metadata": {},
   "outputs": [],
   "source": [
    "df[df['apellido'] == ' ']"
   ]
  },
  {
   "cell_type": "code",
   "execution_count": null,
   "id": "e8d72b50",
   "metadata": {},
   "outputs": [],
   "source": [
    "df[df['dni'] == ' ']"
   ]
  },
  {
   "cell_type": "code",
   "execution_count": null,
   "id": "6ed6b0ee",
   "metadata": {},
   "outputs": [],
   "source": [
    "df[df['provincia'] == ' ']"
   ]
  },
  {
   "cell_type": "code",
   "execution_count": null,
   "id": "808919c7",
   "metadata": {},
   "outputs": [],
   "source": [
    "df[df['voto'] == ' ']"
   ]
  },
  {
   "cell_type": "code",
   "execution_count": null,
   "id": "b75ff454",
   "metadata": {},
   "outputs": [],
   "source": [
    "df[df['fecha_votacion'] == ' ']"
   ]
  },
  {
   "cell_type": "markdown",
   "id": "bdc9cb09",
   "metadata": {},
   "source": [
    "#### mostramos el tipo de dato de cada columna"
   ]
  },
  {
   "cell_type": "code",
   "execution_count": null,
   "id": "55a712e3",
   "metadata": {},
   "outputs": [],
   "source": [
    "df.dtypes"
   ]
  },
  {
   "cell_type": "markdown",
   "id": "cb1cf4b3",
   "metadata": {},
   "source": [
    "#### mostraremos las filas que tengas valores en string pero con la palabra nulo"
   ]
  },
  {
   "cell_type": "code",
   "execution_count": null,
   "id": "6a758894",
   "metadata": {},
   "outputs": [],
   "source": [
    "df[df['voto'] == 'nulo']"
   ]
  },
  {
   "cell_type": "code",
   "execution_count": null,
   "id": "eaad3591",
   "metadata": {},
   "outputs": [],
   "source": [
    "df[df['nombre'] == 'nulo']"
   ]
  },
  {
   "cell_type": "code",
   "execution_count": null,
   "id": "615aad6c",
   "metadata": {},
   "outputs": [],
   "source": [
    "df[df['apellido'] == 'nulo']"
   ]
  },
  {
   "cell_type": "code",
   "execution_count": null,
   "id": "1a1fb8c7",
   "metadata": {},
   "outputs": [],
   "source": [
    "df[df['dni'] == 'nulo']"
   ]
  },
  {
   "cell_type": "code",
   "execution_count": null,
   "id": "9a73b62b",
   "metadata": {},
   "outputs": [],
   "source": [
    "df[df['provincia'] == 'nulo']"
   ]
  },
  {
   "cell_type": "code",
   "execution_count": null,
   "id": "467e715a",
   "metadata": {},
   "outputs": [],
   "source": [
    "df[df['fecha_votacion'] == 'nulo']"
   ]
  },
  {
   "cell_type": "markdown",
   "id": "2cba2a13",
   "metadata": {},
   "source": [
    "####  cambiamos los valores que sean string 'nulo' por no en la columna voto"
   ]
  },
  {
   "cell_type": "code",
   "execution_count": null,
   "id": "d4f05eda",
   "metadata": {},
   "outputs": [],
   "source": [
    "\n",
    "df['voto'] = df['voto'].replace('nulo','no')"
   ]
  },
  {
   "cell_type": "markdown",
   "id": "06336c52",
   "metadata": {},
   "source": [
    "#### mostramos el df de vuelta "
   ]
  },
  {
   "cell_type": "code",
   "execution_count": null,
   "id": "d627db55",
   "metadata": {},
   "outputs": [],
   "source": [
    "df"
   ]
  },
  {
   "cell_type": "markdown",
   "id": "c7554057",
   "metadata": {},
   "source": [
    "#### cambiamos fecha_votación de tipo string a tipo datetime"
   ]
  },
  {
   "cell_type": "code",
   "execution_count": null,
   "id": "0f4d7d21",
   "metadata": {},
   "outputs": [],
   "source": [
    "df['fecha_votacion'] = pd.to_datetime(df['fecha_votacion'],errors='coerce')"
   ]
  },
  {
   "cell_type": "markdown",
   "id": "ac7196c2",
   "metadata": {},
   "source": [
    "#### eliminamos los valores Nat el df por las fecha de votación"
   ]
  },
  {
   "cell_type": "code",
   "execution_count": null,
   "id": "2952721d",
   "metadata": {},
   "outputs": [],
   "source": [
    "df.dropna(subset=['fecha_votacion'],inplace=True)"
   ]
  },
  {
   "cell_type": "markdown",
   "id": "534b51b3",
   "metadata": {},
   "source": [
    "#### mostramos el df de vuelta"
   ]
  },
  {
   "cell_type": "code",
   "execution_count": null,
   "id": "4c2abe86",
   "metadata": {},
   "outputs": [],
   "source": [
    "df"
   ]
  },
  {
   "cell_type": "markdown",
   "id": "c02ebc13",
   "metadata": {},
   "source": [
    "#### cambiamos el tipo de datos del dni a entero "
   ]
  },
  {
   "cell_type": "code",
   "execution_count": null,
   "id": "97dbc596",
   "metadata": {},
   "outputs": [],
   "source": [
    "df['dni'] = df['dni'].astype(float)"
   ]
  },
  {
   "cell_type": "code",
   "execution_count": null,
   "id": "c8039c3d",
   "metadata": {},
   "outputs": [],
   "source": [
    "df['dni'] = df['dni'].astype(int)"
   ]
  },
  {
   "cell_type": "markdown",
   "id": "3d4ab48d",
   "metadata": {},
   "source": [
    "#### mostramos la columna"
   ]
  },
  {
   "cell_type": "code",
   "execution_count": null,
   "id": "d273b606",
   "metadata": {},
   "outputs": [],
   "source": [
    "df['dni']"
   ]
  },
  {
   "cell_type": "markdown",
   "id": "c62e0590",
   "metadata": {},
   "source": [
    "#### mostramos las estadísticas descriptivas"
   ]
  },
  {
   "cell_type": "code",
   "execution_count": null,
   "id": "c4b19d2d",
   "metadata": {},
   "outputs": [],
   "source": [
    "df.describe()"
   ]
  },
  {
   "cell_type": "markdown",
   "id": "a0bc81f1",
   "metadata": {},
   "source": [
    "#### contamos la cantidad de votaciones por fecha"
   ]
  },
  {
   "cell_type": "code",
   "execution_count": null,
   "id": "a3a0342d",
   "metadata": {},
   "outputs": [],
   "source": [
    "votos_mes = df.groupby(df['fecha_votacion'].dt.to_period('M')).size().reset_index(name='cantidad_voto')"
   ]
  },
  {
   "cell_type": "markdown",
   "id": "c369d074",
   "metadata": {},
   "source": [
    "#### mostramos las votaciones"
   ]
  },
  {
   "cell_type": "code",
   "execution_count": null,
   "id": "c9245493",
   "metadata": {},
   "outputs": [],
   "source": [
    "votos_mes"
   ]
  },
  {
   "cell_type": "markdown",
   "id": "17a4db86",
   "metadata": {},
   "source": [
    "#### creamos el gráfico para el df de las votaciones por mes "
   ]
  },
  {
   "cell_type": "code",
   "execution_count": null,
   "id": "32c2a7a8",
   "metadata": {},
   "outputs": [],
   "source": [
    "plt.figure(figsize=(10,8))\n",
    "\n",
    "plt.bar(votos_mes['fecha_votacion'].astype(str),votos_mes['cantidad_voto'],color='royalblue')\n",
    "\n",
    "plt.xlabel('meses')\n",
    "plt.ylabel('cantidad de votos por mes')\n",
    "plt.xticks(rotation = 45)\n",
    "plt.show()"
   ]
  },
  {
   "cell_type": "markdown",
   "id": "db0a9337",
   "metadata": {},
   "source": [
    "#### creamos las base de datos "
   ]
  },
  {
   "cell_type": "code",
   "execution_count": null,
   "id": "331af888",
   "metadata": {},
   "outputs": [],
   "source": [
    "conn = sqlite3.connect('votaciones_limpia.sqlite')"
   ]
  },
  {
   "cell_type": "markdown",
   "id": "2a0f1f56",
   "metadata": {},
   "source": [
    "#### exportamos el df a un archivo sqlite"
   ]
  },
  {
   "cell_type": "code",
   "execution_count": null,
   "id": "b23c265c",
   "metadata": {},
   "outputs": [],
   "source": [
    "df.to_sql('votaciones',conn, if_exists='replace',index=False)"
   ]
  },
  {
   "cell_type": "markdown",
   "id": "1d014810",
   "metadata": {},
   "source": [
    "#### mostramos el df de el archivo de sqlite y del csv"
   ]
  },
  {
   "cell_type": "code",
   "execution_count": null,
   "id": "21d83ac5",
   "metadata": {},
   "outputs": [],
   "source": [
    "df_muestra = pd.read_sql('SELECT * FROM votaciones',conn)"
   ]
  },
  {
   "cell_type": "code",
   "execution_count": null,
   "id": "65635dbe",
   "metadata": {},
   "outputs": [],
   "source": [
    "df.head()"
   ]
  },
  {
   "cell_type": "code",
   "execution_count": null,
   "id": "4d68d971",
   "metadata": {},
   "outputs": [],
   "source": [
    "df_muestra.head()"
   ]
  }
 ],
 "metadata": {
  "kernelspec": {
   "display_name": ".venv",
   "language": "python",
   "name": "python3"
  },
  "language_info": {
   "codemirror_mode": {
    "name": "ipython",
    "version": 3
   },
   "file_extension": ".py",
   "mimetype": "text/x-python",
   "name": "python",
   "nbconvert_exporter": "python",
   "pygments_lexer": "ipython3",
   "version": "3.13.3"
  }
 },
 "nbformat": 4,
 "nbformat_minor": 5
}
